{
 "cells": [
  {
   "cell_type": "markdown",
   "metadata": {},
   "source": [
    "# Have several agents collaborate in a multi-agent hierarchy 🤖🤝🤖\n",
    "_Authored by: [Aymeric Roucher](https://huggingface.co/m-ric)_\n",
    "\n",
    "> This tutorial is advanced. You should have notions from [this other cookbook](agents) first!\n",
    "\n",
    "In this notebook we will make a **multi-agent web browser: an agentic system with several agents collaborating to solve problems using the web!**\n",
    "\n",
    "It will be a simple hierarchy, using a `ManagedAgent` object to wrap the managed web search agent:\n",
    "\n",
    "```\n",
    "              +----------------+\n",
    "              | Manager agent  |\n",
    "              +----------------+\n",
    "                       |\n",
    "        _______________|______________\n",
    "       |                              |\n",
    "  Code interpreter   +--------------------------------+\n",
    "       tool          |         Managed agent          |\n",
    "                     |      +------------------+      |\n",
    "                     |      | Web Search agent |      |\n",
    "                     |      +------------------+      |\n",
    "                     |         |            |         |\n",
    "                     |  Web Search tool     |         |\n",
    "                     |             Visit webpage tool |\n",
    "                     +--------------------------------+\n",
    "```\n",
    "Let's set up this system. \n",
    "\n",
    "⚡️ Our agent will be powered by [meta-llama/Meta-Llama-3.1-70B-Instruct](https://huggingface.co/meta-llama/Meta-Llama-3.1-70B-Instruct) using `HfApiEngine` class that uses HF's Inference API: the Inference API allows to quickly and easily run any OS model.\n",
    "\n",
    "Run the line below to install the required dependencies:"
   ]
  },
  {
   "cell_type": "code",
   "execution_count": null,
   "metadata": {},
   "outputs": [],
   "source": [
    "!pip install markdownify duckduckgo-search \"transformers[agents]\" --upgrade -q"
   ]
  },
  {
   "cell_type": "markdown",
   "metadata": {},
   "source": [
    "We will choose to have our model powered by [Qwen/Qwen2.5-72B-Instruct](https://huggingface.co/Qwen/Qwen2.5-72B-Instruct) since it's very powerful and available for free in the HF API."
   ]
  },
  {
   "cell_type": "code",
   "execution_count": 20,
   "metadata": {},
   "outputs": [],
   "source": [
    "model = \"Qwen/Qwen2.5-72B-Instruct\""
   ]
  },
  {
   "cell_type": "markdown",
   "metadata": {},
   "source": [
    "### 🔍 Create a web search tool\n",
    "\n",
    "For web browsing, we can already use our pre-existing [`DuckDuckGoSearchTool`](https://github.com/huggingface/transformers/blob/main/src/transformers/agents/search.py) tool to provide a Google search equivalent.\n",
    "\n",
    "But then we will also need to be able to peak into the page found by the `DuckDuckGoSearchTool`.\n",
    "To do so, we could import the library's built-in `VisitWebpageTool`, but we will build it again to see how it's done.\n",
    "\n",
    "So let's create our `VisitWebpageTool` tool from scratch using `markdownify`."
   ]
  },
  {
   "cell_type": "code",
   "execution_count": 27,
   "metadata": {},
   "outputs": [],
   "source": [
    "import re\n",
    "import requests\n",
    "from markdownify import markdownify as md\n",
    "from requests.exceptions import RequestException\n",
    "from transformers.agents import tool\n",
    "\n",
    "\n",
    "@tool\n",
    "def visit_webpage(url: str) -> str:\n",
    "    \"\"\"Visits a webpage at the given URL and returns its content as a markdown string.\n",
    "\n",
    "    Args:\n",
    "        url: The URL of the webpage to visit.\n",
    "\n",
    "    Returns:\n",
    "        The content of the webpage converted to Markdown, or an error message if the request fails.\n",
    "    \"\"\"\n",
    "    try:\n",
    "        # Send a GET request to the URL\n",
    "        response = requests.get(url)\n",
    "        response.raise_for_status()  # Raise an exception for bad status codes\n",
    "\n",
    "        # Convert the HTML content to Markdown\n",
    "        markdown_content = md(response.text).strip()\n",
    "\n",
    "        # Remove multiple line breaks\n",
    "        markdown_content = re.sub(r\"\\n{3,}\", \"\\n\\n\", markdown_content)\n",
    "\n",
    "        return markdown_content\n",
    "\n",
    "    except RequestException as e:\n",
    "        return f\"Error fetching the webpage: {str(e)}\"\n",
    "    except Exception as e:\n",
    "        return f\"An unexpected error occurred: {str(e)}\""
   ]
  },
  {
   "cell_type": "markdown",
   "metadata": {},
   "source": [
    "Ok, now let's initialize and test our tool!"
   ]
  },
  {
   "cell_type": "code",
   "execution_count": 28,
   "metadata": {},
   "outputs": [
    {
     "name": "stdout",
     "output_type": "stream",
     "text": [
      "Hugging Face \\- Wikipedia\n",
      "\n",
      "[Jump to content](#bodyContent)\n",
      "\n",
      "Main menu\n",
      "\n",
      "Main menu\n",
      "move to sidebar\n",
      "hide\n",
      "\n",
      " Navigation\n",
      " \n",
      "\n",
      "* [Main page](/wiki/Main_Page \"Visit the main page [z]\")\n",
      "* [Contents](/wiki/Wikipedia:Contents \"Guides to browsing Wikipedia\")\n",
      "* [Current events](/wiki/Portal:Current_events \"Articles related to current events\")\n",
      "* [Random article](/wiki/Special:Random \"Visit a randomly selected article [x]\")\n",
      "* [About Wikipedia](/wiki/Wikipedia:About \"Learn about Wikipedia and how it works\")\n",
      "* [Co\n"
     ]
    }
   ],
   "source": [
    "print(visit_webpage(\"https://en.wikipedia.org/wiki/Hugging_Face\")[:500])"
   ]
  },
  {
   "cell_type": "markdown",
   "metadata": {},
   "source": [
    "## Build our multi-agent system 🤖🤝🤖\n",
    "\n",
    "Now that we have all the tools `search` and `visit_webpage`, we can use them to create the web agent.\n",
    "\n",
    "Which configuration to choose for this agent?\n",
    "- Web browsing is a single-timeline task that does not require parallel tool calls, so JSON tool calling works well for that. We thus choose a `ReactJsonAgent`.\n",
    "- Also, since sometimes web search requires exploring many pages before finding the correct answer, we prefer to increase the number of `max_iterations` to 10."
   ]
  },
  {
   "cell_type": "code",
   "execution_count": 23,
   "metadata": {},
   "outputs": [],
   "source": [
    "from transformers.agents import (\n",
    "    ReactCodeAgent,\n",
    "    ReactJsonAgent,\n",
    "    HfApiEngine,\n",
    "    ManagedAgent,\n",
    ")\n",
    "from transformers.agents.search import DuckDuckGoSearchTool\n",
    "\n",
    "llm_engine = HfApiEngine(model)\n",
    "\n",
    "web_agent = ReactJsonAgent(\n",
    "    tools=[DuckDuckGoSearchTool(), visit_webpage],\n",
    "    llm_engine=llm_engine,\n",
    "    max_iterations=10,\n",
    ")"
   ]
  },
  {
   "cell_type": "markdown",
   "metadata": {},
   "source": [
    "We then wrap this agent into a `ManagedAgent` that will make it callable by its manager agent."
   ]
  },
  {
   "cell_type": "code",
   "execution_count": 24,
   "metadata": {},
   "outputs": [],
   "source": [
    "managed_web_agent = ManagedAgent(\n",
    "    agent=web_agent,\n",
    "    name=\"search\",\n",
    "    description=\"Runs web searches for you. Give it your query as an argument.\",\n",
    ")"
   ]
  },
  {
   "cell_type": "markdown",
   "metadata": {},
   "source": [
    "Finally we create a manager agent, and upon initialization we pass our managed agent to it in its `managed_agents` argument.\n",
    "\n",
    "Since this agent is the one tasked with the planning and thinking, advanced reasoning will be beneficial, so a `ReactCodeAgent` will be the best choice.\n",
    "\n",
    "Also, we want to ask a question that involves the current year: so let us add `additional_authorized_imports=[\"time\", \"datetime\"]`"
   ]
  },
  {
   "cell_type": "code",
   "execution_count": 25,
   "metadata": {},
   "outputs": [],
   "source": [
    "manager_agent = ReactCodeAgent(\n",
    "    tools=[],\n",
    "    llm_engine=llm_engine,\n",
    "    managed_agents=[managed_web_agent],\n",
    "    additional_authorized_imports=[\"time\", \"datetime\"],\n",
    ")"
   ]
  },
  {
   "cell_type": "markdown",
   "metadata": {},
   "source": [
    "That's all! Now let's run our system! We select a question that requires some calculation and "
   ]
  },
  {
   "cell_type": "code",
   "execution_count": 26,
   "metadata": {},
   "outputs": [
    {
     "name": "stderr",
     "output_type": "stream",
     "text": [
      "\u001b[32;20;1m======== New task ========\u001b[0m\n",
      "\u001b[37;1mHow many years ago was Stripe founded?\u001b[0m\n",
      "\u001b[33;1m=== Agent thoughts:\u001b[0m\n",
      "\u001b[0mThought: I need to find out when Stripe was founded and then calculate the number of years since then. I will start by using the `search` tool to find the founding year of Stripe.\u001b[0m\n",
      "\u001b[33;1m>>> Agent is executing the code below:\u001b[0m\n",
      "\u001b[0m\u001b[38;5;7mfounding_year\u001b[39m\u001b[38;5;7m \u001b[39m\u001b[38;5;109;01m=\u001b[39;00m\u001b[38;5;7m \u001b[39m\u001b[38;5;7msearch\u001b[39m\u001b[38;5;7m(\u001b[39m\u001b[38;5;144m\"\u001b[39m\u001b[38;5;144mWhen was Stripe founded\u001b[39m\u001b[38;5;144m\"\u001b[39m\u001b[38;5;7m)\u001b[39m\n",
      "\u001b[38;5;109mprint\u001b[39m\u001b[38;5;7m(\u001b[39m\u001b[38;5;144m\"\u001b[39m\u001b[38;5;144mFounding year:\u001b[39m\u001b[38;5;144m\"\u001b[39m\u001b[38;5;7m,\u001b[39m\u001b[38;5;7m \u001b[39m\u001b[38;5;7mfounding_year\u001b[39m\u001b[38;5;7m)\u001b[39m\u001b[0m\n",
      "\u001b[33;1m====\u001b[0m\n",
      "\u001b[32;20;1m======== New task ========\u001b[0m\n",
      "\u001b[37;1mYou're a helpful agent named 'search'.\n",
      "You have been submitted this task by your manager.\n",
      "---\n",
      "Task:\n",
      "When was Stripe founded\n",
      "---\n",
      "You're helping your manager solve a wider task: so make sure to not provide a one-line answer, but give as much information as possible so that they have a clear understanding of the answer.\n",
      "\n",
      "Your final_answer WILL HAVE to contain these parts:\n",
      "### 1. Task outcome (short version):\n",
      "### 2. Task outcome (extremely detailed version):\n",
      "### 3. Additional context (if relevant):\n",
      "\n",
      "Put all these in your final_answer tool, everything that you do not pass as an argument to final_answer will be lost.\n",
      "And even if your task resolution is not successful, please return as much context as possible, so that your manager can act upon this feedback.\u001b[0m\n",
      "\u001b[33;1m=== Agent thoughts:\u001b[0m\n",
      "\u001b[0mThought: I need to find the founding year of Stripe and related details. The best way to start is by performing a web search.\u001b[0m\n",
      "\u001b[33;1m>>> Calling tool: 'web_search' with arguments: {'query': 'When was Stripe founded'}\u001b[0m\n",
      "\u001b[33;1m=== Agent thoughts:\u001b[0m\n",
      "\u001b[0mThought: The search results provide information on when Stripe was founded and additional details about the company. I will now visit the Stripe Wikipedia page for a more detailed overview.\u001b[0m\n",
      "\u001b[33;1m>>> Calling tool: 'visit_webpage' with arguments: {'url': 'https://en.wikipedia.org/wiki/Stripe,_Inc.'}\u001b[0m\n",
      "\u001b[33;1m=== Agent thoughts:\u001b[0m\n",
      "\u001b[0mThought: I have collected detailed information about Stripe from the Wikipedia page. Now, I will formulate a comprehensive final answer as required for the task.\u001b[0m\n",
      "\u001b[33;1m>>> Calling tool: 'final_answer' with arguments: {'answer': \"### 1. Task Outcome (short version):\\nStripe, Inc. was founded in 2010 by Irish brothers John Collison and Patrick Collison, who serve as the company's president and CEO, respectively. The company is headquartered in South San Francisco, California, and Dublin, Ireland. Stripe provides payment processing and financial services for businesses, enabling them to accept payments and manage financial transactions online.\\n\\n### 2. Task Outcome (extremely detailed version):\\nStripe, Inc. is an Irish-American multinational financial services and software as a service (SaaS) company co-founded in 2010 by John Collison and Patrick Collison, two Irish brothers. The company is dual-headquartered in South San Francisco, California, and Dublin, Ireland. Stripe offers a wide range of financial services and tools, primarily focused on payment processing and management for businesses. Some key milestones and details include:\\n\\n- **Founding and Early Years:** The company was founded in 2010 in Palo Alto, California. In 2011, it received a $2 million investment from notable figures such as Elon Musk, Peter Thiel, and venture capital firms like Sequoia Capital. In 2012, Stripe launched its first multiparty payments solution, Stripe Connect.\\n- **Growth and Expansion:** Stripe has rapidly expanded its services and reach. In 2013, it made its first acquisition, Kickoff, a chat and task management application. In 2016, Stripe launched Atlas, a platform to help startups register as U.S. corporations. The company has continued to grow, raising significant rounds of funding and expanding its services to new markets, including Europe and Africa.\\n- **Product Suite:** Stripe offers a comprehensive suite of financial tools, including payment processing, billing, fraud prevention, point-of-sale solutions, and more. Notable products include Radar (anti-fraud tools), Terminal (point-of-sale hardware), and Stripe Capital (merchant cash advances).\\n- **Partnerships and Integrations:** Stripe has formed partnerships with major companies such as Ford, Spotify, and Twitter to handle transactions and payments. It has also launched the Stripe App Marketplace, allowing businesses to integrate third-party apps and services.\\n- **Valuation and Funding:** As of the latest data, Stripe has raised over $6.5 billion in funding and is valued at around $70 billion, making it one of the most valuable privately-held startups globally.\\n- **Challenges and Layoffs:** In 2022, Stripe announced layoffs, cutting 14% of its workforce to prepare for leaner times. However, the company continues to innovate and expand its offerings.\\n\\n### 3. Additional Context (if relevant):\\n- **Impact on the Founders:** John and Patrick Collison have been influential in shaping the fintech industry. Their vision and leadership have driven Stripe's success and innovation.\\n- **Industry Position:** Stripe is a leader in the fintech sector, competing with other payment processors and financial service providers. Its robust product suite and global reach have solidified its position in the market.\\n- **Future Outlook:** Stripe continues to invest in new technologies and services, including AI and carbon capture initiatives. The company's focus on innovation and customer needs positions it well for future growth.\"}\u001b[0m\n",
      "\u001b[33;1mPrint outputs:\u001b[0m\n",
      "\u001b[32;20mFounding year: ### 1. Task Outcome (short version):\n",
      "Stripe, Inc. was founded in 2010 by Irish brothers John Collison and Patrick Collison, who serve as the company's president and CEO, respectively. The company is headquartered in South San Francisco, California, and Dublin, Ireland. Stripe provides payment processing and financial services for businesses, enabling them to accept payments and manage financial transactions online.\n",
      "\n",
      "### 2. Task Outcome (extremely detailed version):\n",
      "Stripe, Inc. is an Irish-American multinational financial services and software as a service (SaaS) company co-founded in 2010 by John Collison and Patrick Collison, two Irish brothers. The company is dual-headquartered in South San Francisco, California, and Dublin, Ireland. Stripe offers a wide range of financial services and tools, primarily focused on payment processing and management for businesses. Some key milestones and details include:\n",
      "\n",
      "- **Founding and Early Years:** The company was founded in 2010 in Palo Alto, California. In 2011, it received a $2 million investment from notable figures such as Elon Musk, Peter Thiel, and venture capital firms like Sequoia Capital. In 2012, Stripe launched its first multiparty payments solution, Stripe Connect.\n",
      "- **Growth and Expansion:** Stripe has rapidly expanded its services and reach. In 2013, it made its first acquisition, Kickoff, a chat and task management application. In 2016, Stripe launched Atlas, a platform to help startups register as U.S. corporations. The company has continued to grow, raising significant rounds of funding and expanding its services to new markets, including Europe and Africa.\n",
      "- **Product Suite:** Stripe offers a comprehensive suite of financial tools, including payment processing, billing, fraud prevention, point-of-sale solutions, and more. Notable products include Radar (anti-fraud tools), Terminal (point-of-sale hardware), and Stripe Capital (merchant cash advances).\n",
      "- **Partnerships and Integrations:** Stripe has formed partnerships with major companies such as Ford, Spotify, and Twitter to handle transactions and payments. It has also launched the Stripe App Marketplace, allowing businesses to integrate third-party apps and services.\n",
      "- **Valuation and Funding:** As of the latest data, Stripe has raised over $6.5 billion in funding and is valued at around $70 billion, making it one of the most valuable privately-held startups globally.\n",
      "- **Challenges and Layoffs:** In 2022, Stripe announced layoffs, cutting 14% of its workforce to prepare for leaner times. However, the company continues to innovate and expand its offerings.\n",
      "\n",
      "### 3. Additional Context (if relevant):\n",
      "- **Impact on the Founders:** John and Patrick Collison have been influential in shaping the fintech industry. Their vision and leadership have driven Stripe's success and innovation.\n",
      "- **Industry Position:** Stripe is a leader in the fintech sector, competing with other payment processors and financial service providers. Its robust product suite and global reach have solidified its position in the market.\n",
      "- **Future Outlook:** Stripe continues to invest in new technologies and services, including AI and carbon capture initiatives. The company's focus on innovation and customer needs positions it well for future growth.\n",
      "\u001b[0m\n",
      "\u001b[33;1m=== Agent thoughts:\u001b[0m\n",
      "\u001b[0mThought: The search result shows that Stripe was founded in 2010. Now I need to calculate how many years ago that was. I will use the current year to make this calculation.\u001b[0m\n",
      "\u001b[33;1m>>> Agent is executing the code below:\u001b[0m\n",
      "\u001b[0m\u001b[38;5;109;01mimport\u001b[39;00m\u001b[38;5;7m \u001b[39m\u001b[38;5;109mdatetime\u001b[39m\n",
      "\n",
      "\u001b[38;5;7mcurrent_year\u001b[39m\u001b[38;5;7m \u001b[39m\u001b[38;5;109;01m=\u001b[39;00m\u001b[38;5;7m \u001b[39m\u001b[38;5;7mdatetime\u001b[39m\u001b[38;5;109;01m.\u001b[39;00m\u001b[38;5;7mdatetime\u001b[39m\u001b[38;5;109;01m.\u001b[39;00m\u001b[38;5;7mnow\u001b[39m\u001b[38;5;7m(\u001b[39m\u001b[38;5;7m)\u001b[39m\u001b[38;5;109;01m.\u001b[39;00m\u001b[38;5;7myear\u001b[39m\n",
      "\u001b[38;5;7mfounding_year\u001b[39m\u001b[38;5;7m \u001b[39m\u001b[38;5;109;01m=\u001b[39;00m\u001b[38;5;7m \u001b[39m\u001b[38;5;139m2010\u001b[39m\n",
      "\u001b[38;5;7myears_since_founded\u001b[39m\u001b[38;5;7m \u001b[39m\u001b[38;5;109;01m=\u001b[39;00m\u001b[38;5;7m \u001b[39m\u001b[38;5;7mcurrent_year\u001b[39m\u001b[38;5;7m \u001b[39m\u001b[38;5;109;01m-\u001b[39;00m\u001b[38;5;7m \u001b[39m\u001b[38;5;7mfounding_year\u001b[39m\n",
      "\u001b[38;5;7mfinal_answer\u001b[39m\u001b[38;5;7m(\u001b[39m\u001b[38;5;7myears_since_founded\u001b[39m\u001b[38;5;7m)\u001b[39m\u001b[0m\n",
      "\u001b[33;1m====\u001b[0m\n",
      "\u001b[33;1mPrint outputs:\u001b[0m\n",
      "\u001b[32;20m\u001b[0m\n",
      "\u001b[33;1mLast output from code snippet:\u001b[0m\n",
      "\u001b[32;20m14\u001b[0m\n",
      "\u001b[32;20;1mFinal answer:\u001b[0m\n",
      "\u001b[32;20m14\u001b[0m\n"
     ]
    },
    {
     "data": {
      "text/plain": [
       "14"
      ]
     },
     "execution_count": 26,
     "metadata": {},
     "output_type": "execute_result"
    }
   ],
   "source": [
    "manager_agent.run(\"How many years ago was Stripe founded?\")"
   ]
  },
  {
   "cell_type": "markdown",
   "metadata": {},
   "source": [
    "Our agents managed to efficiently collaborate towards solving the task! ✅\n",
    "\n",
    "💡 You can easily extend this to more agents: one does the code execution, one the web search, one handles file loadings...\n",
    "\n",
    "🤔💭 One could even think of doing more complex, tree-like hierarchies, with one CEO agent handling multiple middle managers, each with several reports.\n",
    "\n",
    "We could even add more intermediate layers of management, each with multiple daily meetings, lots of agile stuff with scrum masters, and each new component adds enough friction to ensure the tasks never get done... Ehm wait, no, let's stick with our simple structure."
   ]
  }
 ],
 "metadata": {
  "kernelspec": {
   "display_name": "cookbook2",
   "language": "python",
   "name": "cookbook2"
  },
  "language_info": {
   "codemirror_mode": {
    "name": "ipython",
    "version": 3
   },
   "file_extension": ".py",
   "mimetype": "text/x-python",
   "name": "python",
   "nbconvert_exporter": "python",
   "pygments_lexer": "ipython3",
   "version": "3.12.0"
  }
 },
 "nbformat": 4,
 "nbformat_minor": 2
}
